{
  "nbformat": 4,
  "nbformat_minor": 0,
  "metadata": {
    "colab": {
      "provenance": [],
      "gpuType": "T4",
      "mount_file_id": "1qhgCMJHvTkk1KhjCZPpoN0Mww2m7_7HP",
      "authorship_tag": "ABX9TyPZp1aXazf6aiN2KnE0KxC/",
      "include_colab_link": true
    },
    "kernelspec": {
      "name": "python3",
      "display_name": "Python 3"
    },
    "language_info": {
      "name": "python"
    },
    "accelerator": "GPU"
  },
  "cells": [
    {
      "cell_type": "markdown",
      "metadata": {
        "id": "view-in-github",
        "colab_type": "text"
      },
      "source": [
        "<a href=\"https://colab.research.google.com/github/MehmetKaTR/DL_lebron_or_sharapova/blob/main/DL_ImageClassification.ipynb\" target=\"_parent\"><img src=\"https://colab.research.google.com/assets/colab-badge.svg\" alt=\"Open In Colab\"/></a>"
      ]
    },
    {
      "cell_type": "code",
      "source": [
        "from google.colab.patches import cv2_imshow"
      ],
      "metadata": {
        "id": "Lk0WI7Rt4FCZ"
      },
      "execution_count": 1,
      "outputs": []
    },
    {
      "cell_type": "code",
      "source": [
        "import os\n",
        "import cv2\n",
        "\n",
        "img_list = []\n",
        "class_label = []\n",
        "paths = [\"/content/drive/MyDrive/AITOLIA/Image Classification 01/mariaPhotos/\",\"/content/drive/MyDrive/AITOLIA/Image Classification 01/lebronPhotos/\"]\n",
        "\n",
        "face_cascade = cv2.CascadeClassifier(\"/content/drive/MyDrive/AITOLIA/Image Classification 01/haarcascade_frontalface_default.xml\")\n",
        "eye_cascade = cv2.CascadeClassifier(\"/content/drive/MyDrive/AITOLIA/Image Classification 01/haarcascade_eye.xml\")\n",
        "\n",
        "\n",
        "def get_cropped_image_if_2_eyes(image_path):\n",
        "    img = cv2.imread(image_path)\n",
        "    gray = cv2.cvtColor(img, cv2.COLOR_BGR2GRAY)\n",
        "    faces = face_cascade.detectMultiScale(gray, 1.3, 5)\n",
        "    for (x,y,w,h) in faces:\n",
        "        roi_gray = gray[y:y+h, x:x+w]\n",
        "        roi_color = img[y:y+h, x:x+w]\n",
        "        eyes = eye_cascade.detectMultiScale(roi_gray)\n",
        "        if len(eyes) >= 2:\n",
        "            return roi_color\n",
        "\n",
        "for directory_path in paths:\n",
        "  for link in os.listdir(directory_path):\n",
        "      img = get_cropped_image_if_2_eyes(os.path.join(directory_path, link))\n",
        "\n",
        "      if img is not None:\n",
        "          resized_img = cv2.resize(img, (32, 32))\n",
        "          resized_img = cv2.cvtColor(resized_img, cv2.COLOR_BGR2GRAY)\n",
        "          img_list.append(resized_img)\n",
        "          if directory_path.endswith(\"mariaPhotos/\"):\n",
        "            class_label.append(int(0))\n",
        "          else:\n",
        "            class_label.append(int(1))\n",
        "      else:\n",
        "          print(f\"Error reading image: {link}\")"
      ],
      "metadata": {
        "colab": {
          "base_uri": "https://localhost:8080/"
        },
        "id": "NgNd_TmL_ZrX",
        "outputId": "be92b95b-9986-4599-d72f-efa074353584"
      },
      "execution_count": 69,
      "outputs": [
        {
          "output_type": "stream",
          "name": "stdout",
          "text": [
            "Error reading image: 220px-Sharapova_WM19_(5)_(48521917742).jpg\n",
            "Error reading image: 220px-Flickr_-_Carine06_-_Maria_Sharapova_(1).jpg\n",
            "Error reading image: 200px-Maria_Sharapova_US_Open_2007.jpg\n",
            "Error reading image: _111046104_ee43a886-09fc-4e43-bcb7-6fc4541d032d.jpg\n",
            "Error reading image: Maria-Sharapova-women-singles-event-US-Open-2006 (1).jpg\n",
            "Error reading image: 61pQIoqAWIL.jpg\n",
            "Error reading image: 1200x675_cmsv2_d95262de-0826-5db4-bc79-595e0c8c7c31-4527966.jpg\n",
            "Error reading image: 62820fcd45d2a051587b73f7.jpg\n",
            "Error reading image: maria-sharapova-tennis.jpg\n",
            "Error reading image: 634388.jpg\n",
            "Error reading image: 728xauto.jpg\n",
            "Error reading image: 751443-21085608-2560-1440.jpg\n",
            "Error reading image: h_778.jpg\n",
            "Error reading image: maria-sharapova-ap2jpg.jpg\n",
            "Error reading image: 220px-Maria_Sharapova_2011.jpg\n",
            "Error reading image: 209862.jpg\n",
            "Error reading image: sharapova.jpg\n",
            "Error reading image: maria-sharapova-20140405_jr_supergoop_0358b_v3_flat.jpg\n",
            "Error reading image: 1219_1800x.jpg\n",
            "Error reading image: Maria-Sharapova.jpg\n",
            "Error reading image: 157441-796190089.jpg\n",
            "Error reading image: 1200px-Maria_SHARAPOVA.jpg\n",
            "Error reading image: 26sharapova-writethru-superJumbo.jpg\n",
            "Error reading image: rs_1024x759-200226055903-1024-Maria-Sharapova-J1R-22620.jpg\n",
            "Error reading image: 960x0.jpg\n",
            "Error reading image: mariasharapova.jpg\n",
            "Error reading image: 170px-MariaSharapova.JPG\n",
            "Error reading image: Maria.jpg\n",
            "Error reading image: 870577-20202490-2560-1440.jpg\n",
            "Error reading image: skysports-maria-sharapova-return_3853581.jpg\n",
            "Error reading image: 000_1PC30K.jpg\n",
            "Error reading image: maria-sharapova-32-yasinda-emekli-oldu-693346-5.jpg\n",
            "Error reading image: maxresdefault (1).jpg\n",
            "Error reading image: 16SHARAPOVA-articleLarge.jpg\n",
            "Error reading image: d20604dd6e80449e8128b06aba75daa6.jpg\n",
            "Error reading image: 1-maria-sharapovajpg.jpg\n",
            "Error reading image: 60-Maria-Sharapova-epa.jpg\n",
            "Error reading image: fransada_maria_sharapova_yari_finalde13704418060_h1035312.jpg\n",
            "Error reading image: Maria-Sharapova-Therabody-2db6e804039a49ca93549578710d873e.jpg\n",
            "Error reading image: maria-sharapova-kimdir-kac-yasindadir-nerelidir-13876098_5940_amp.jpg\n",
            "Error reading image: http___com.ft.imagepublish.upp-prod-eu.s3.amazonaws.jpg\n",
            "Error reading image: maria-sharapova-sponsor-destegini-kaybediyor_001.jpg\n",
            "Error reading image: Maria-Sharapova-US-Open-2017.jpg\n",
            "Error reading image: thumbs_b_c_87f0209cf22304408db0096be9ce549f.jpg\n",
            "Error reading image: sharapova-1-gty-er-200226_hpMain_1x1_992.jpg\n",
            "Error reading image: maria-sharapova-and-chelsea-handler.jpg\n",
            "Error reading image: http___com.ft.imagepublish.upp-prod-eu.s3.amazonaws (1).jpg\n",
            "Error reading image: 220px-LeBron_James_Lakers.jpg\n",
            "Error reading image: thumbs_b_c_49ee5579d3ef13b7ddf1c628538d3a22.jpg\n",
            "Error reading image: 450px-LeBron_James_(15662939969).jpg\n",
            "Error reading image: 2299c4b1f26d4d328dd698ebbd414e17.png\n",
            "Error reading image: lebronjamesnbarecordapimage_01182023.jpg\n",
            "Error reading image: GettyImages-1489016138-b69c82ea8e044ad78514797af9882740.jpg\n",
            "Error reading image: lebron-james-1541405.jpg\n",
            "Error reading image: thumbs_b_c_6453047ebd87974e9818795aded8da6b.jpg\n",
            "Error reading image: 2d4dfa79127ab8fc9ef5836218052cbf.jpg\n",
            "Error reading image: 2e1ed6e4da0b4cd0b91c2edd51f2b63b.jpg\n",
            "Error reading image: LeBron-James-63.jpg\n",
            "Error reading image: nike-lebron.jpg\n",
            "Error reading image: lebron-james-reuters-1984216.jpg\n",
            "Error reading image: 64c299584e3fe01114fbb9e5.jpg\n",
            "Error reading image: LeBron-James14.jpg\n",
            "Error reading image: latest.jpg\n",
            "Error reading image: YISHMCH7GZHN7IQPA3PVSV3CDU.jpg\n",
            "Error reading image: 220px-LeBron_James_(51960276445)_(cropped).jpg\n",
            "Error reading image: 491329.jpg\n",
            "Error reading image: Vn8MojAt6U-B5aIJNA4CeQ.jpg\n",
            "Error reading image: thumbs_b_c_08579b0dd0a5caa84c31df62ee21d783.jpg\n",
            "Error reading image: 12-1b82e6bf19d842b0ba9b6c069dc22c7b.jpg\n",
            "Error reading image: 02nba-lebron-1-videoSixteenByNine3000.jpg\n",
            "Error reading image: LeBron-James-11.jpg\n",
            "Error reading image: 1de192af-lebron-james-los-angeles-lakers-sacramento-kings-625x375.jpg\n",
            "Error reading image: LeBron-James3.jpg\n",
            "Error reading image: _101539981_lebronjames.jpg\n",
            "Error reading image: nbade-lebron-james-rekor--472_2-41.jpg\n",
            "Error reading image: lebron-james-1-gty-gmh-230207_1675833049034_hpMain.jpg\n",
            "Error reading image: Burak Yilmaz_2023_ocak_l1200.jpg\n",
            "Error reading image: 1207_sun_LakersPelicans12_t600.jpg\n",
            "Error reading image: pRlbpHvnw0yf82ToflPkQA.jpg\n",
            "Error reading image: 5132.jpg\n",
            "Error reading image: 231207-LeBron-Thumb.jpg\n",
            "Error reading image: LeBron-James-Los-Angeles-Lakers-Staples-Center-2019 (1).jpg\n",
            "Error reading image: 231128103407-01-nba-1127-lebron-james.jpg\n",
            "Error reading image: jubmojf2dttq3b003oos.jpg\n",
            "Error reading image: 220px-LeBron_James__22.jpg\n",
            "Error reading image: 17025182629123.jpg\n",
            "Error reading image: lebron-james-usatsi-cbs.jpg\n",
            "Error reading image: 5f16a0887a5240e9886a92fccdd3dbe0.jpg\n",
            "Error reading image: lebron-james-1.jpg\n",
            "Error reading image: 3464.jpg\n",
            "Error reading image: hq720.jpg\n",
            "Error reading image: LeBron James 121423.jpeg\n",
            "Error reading image: usatsi_20444814_168388303_lowres-1.jpg\n",
            "Error reading image: VRRSDO7KCVNWFKAG3M5RGIZVCA.jpg\n",
            "Error reading image: GettyImages-1817523435-2.jpg\n",
            "Error reading image: lebron-james-reu-2144847.jpg\n",
            "Error reading image: lebron-james-lakers-080923-3-c8983a532d894b6aada783175b6137da.jpg\n",
            "Error reading image: lakersta-lebron-jamesin-t-935_2-41.jpg\n",
            "Error reading image: e9c1d97b-0bf6-4348-947b-776d57cd1efd-LeBron_dunk_vs._Cavs.jpg\n",
            "Error reading image: 1755155301.0.jpg\n",
            "Error reading image: NZSSRRYMWNHIVJCNSKH7ZVCLEA.jpg\n",
            "Error reading image: 106800947-1606145527270-abc.jpg\n",
            "Error reading image: https___hypebeast.com_image_2022_02_lebron-james-nike-nikeland-roblox-lebron-19-chosen-1-info-1.jpg\n",
            "Error reading image: 175px-LeBron_James_18112009_1.jpg\n",
            "Error reading image: MV5BZDg1ZWIyODYtZDI1My00ODZlLWI4Y2UtMTQ5YTdkZmYxYTE2XkEyXkFqcGdeQXVyNjc1OTk4NjA_.jpg\n",
            "Error reading image: lebron-james-smiles-archive.jpg\n",
            "Error reading image: LeBron-James-36-640x430.jpg\n"
          ]
        }
      ]
    },
    {
      "cell_type": "code",
      "source": [],
      "metadata": {
        "id": "2A4MzE0K8Yuk"
      },
      "execution_count": null,
      "outputs": []
    },
    {
      "cell_type": "code",
      "source": [
        "os.path.join(directory_path,link)"
      ],
      "metadata": {
        "colab": {
          "base_uri": "https://localhost:8080/",
          "height": 36
        },
        "id": "WjFsek5L4lzF",
        "outputId": "c3452749-5069-4191-8268-6d9e9b110501"
      },
      "execution_count": 3,
      "outputs": [
        {
          "output_type": "execute_result",
          "data": {
            "text/plain": [
              "'/content/drive/MyDrive/AITOLIA/Image Classification 01/lebronPhotos/r0vuh3itatmf8qoddoun.jpg'"
            ],
            "application/vnd.google.colaboratory.intrinsic+json": {
              "type": "string"
            }
          },
          "metadata": {},
          "execution_count": 3
        }
      ]
    },
    {
      "cell_type": "code",
      "source": [],
      "metadata": {
        "id": "3PKENePL37pW"
      },
      "execution_count": 4,
      "outputs": []
    },
    {
      "cell_type": "code",
      "source": [
        "import numpy as np"
      ],
      "metadata": {
        "id": "Y7n159_4_Zn9"
      },
      "execution_count": 5,
      "outputs": []
    },
    {
      "cell_type": "code",
      "source": [
        "X = np.array(img_list)\n",
        "X = X.reshape(X.shape[0], 32, 32, 1)\n",
        "X.shape"
      ],
      "metadata": {
        "colab": {
          "base_uri": "https://localhost:8080/"
        },
        "id": "Y0QHXyGe_cQ2",
        "outputId": "72c99fdb-f59c-4aa6-e447-884714a5666e"
      },
      "execution_count": 73,
      "outputs": [
        {
          "output_type": "execute_result",
          "data": {
            "text/plain": [
              "(76, 32, 32, 1)"
            ]
          },
          "metadata": {},
          "execution_count": 73
        }
      ]
    },
    {
      "cell_type": "code",
      "source": [],
      "metadata": {
        "id": "KHCIF7f5_aLd"
      },
      "execution_count": 51,
      "outputs": []
    },
    {
      "cell_type": "code",
      "source": [
        "y = np.array(class_label)\n",
        "y"
      ],
      "metadata": {
        "colab": {
          "base_uri": "https://localhost:8080/"
        },
        "id": "dFQt4DnfLQY9",
        "outputId": "eec9b693-ffb4-4790-8854-f1edd9b82a2c"
      },
      "execution_count": 52,
      "outputs": [
        {
          "output_type": "execute_result",
          "data": {
            "text/plain": [
              "array([0, 0, 0, 0, 0, 0, 0, 0, 0, 0, 0, 0, 0, 0, 0, 0, 0, 0, 0, 0, 0, 0,\n",
              "       0, 0, 0, 0, 0, 0, 0, 0, 0, 0, 0, 0, 0, 0, 0, 0, 0, 0, 0, 0, 0, 0,\n",
              "       1, 1, 1, 1, 1, 1, 1, 1, 1, 1, 1, 1, 1, 1, 1, 1, 1, 1, 1, 1, 1, 1,\n",
              "       1, 1, 1, 1, 1, 1, 1, 1, 1, 1])"
            ]
          },
          "metadata": {},
          "execution_count": 52
        }
      ]
    },
    {
      "cell_type": "code",
      "source": [],
      "metadata": {
        "id": "OuLRyqQQB5R9"
      },
      "execution_count": 7,
      "outputs": []
    },
    {
      "cell_type": "code",
      "source": [],
      "metadata": {
        "id": "jX4AOHr9Yood"
      },
      "execution_count": 88,
      "outputs": []
    },
    {
      "cell_type": "code",
      "source": [
        "from sklearn.model_selection import train_test_split"
      ],
      "metadata": {
        "id": "zmd5gQaR_ZcL"
      },
      "execution_count": 8,
      "outputs": []
    },
    {
      "cell_type": "code",
      "source": [
        "import keras\n",
        "import tensorflow as tf\n",
        "from keras.datasets import mnist\n",
        "from sklearn.model_selection import train_test_split\n",
        "\n",
        "X_train, X_test, y_train, y_test = train_test_split(X, y, random_state=42, shuffle=True, train_size=0.8)\n",
        "\n",
        "X_train = X_train.astype('float32') / 255.0\n",
        "X_test = X_test.astype('float32') / 255.0\n",
        "\n",
        "\n",
        "X_train = X_train.reshape(X_train.shape[0], 32, 32, 1)\n",
        "X_test = X_test.reshape(X_test.shape[0], 32, 32, 1)\n",
        "\n",
        "model = keras.models.Sequential()\n",
        "\n",
        "model.add(keras.layers.LSTM(128, input_shape=(32,32), return_sequences=True))\n",
        "model.add(keras.layers.Dropout(0.2))\n",
        "model.add(keras.layers.LSTM(128))\n",
        "model.add(keras.layers.Dense(64, activation='relu'))\n",
        "model.add(keras.layers.Dropout(0.2))\n",
        "model.add(keras.layers.Dense(2, activation='softmax'))\n",
        "\n",
        "\n",
        "model.compile(loss='sparse_categorical_crossentropy',\n",
        "              optimizer=tf.keras.optimizers.Adam(learning_rate=0.001),\n",
        "              metrics=['accuracy'])\n",
        "\n",
        "history = model.fit(X_train, y_train, epochs=30, validation_data=(X_test, y_test))\n"
      ],
      "metadata": {
        "colab": {
          "base_uri": "https://localhost:8080/"
        },
        "id": "enbYHtL2JoeJ",
        "outputId": "ea69adf3-022b-42c9-eca2-e4886efa34b3"
      },
      "execution_count": null,
      "outputs": [
        {
          "output_type": "stream",
          "name": "stdout",
          "text": [
            "Epoch 1/30\n",
            "2/2 [==============================] - 7s 798ms/step - loss: 0.6384 - accuracy: 0.5500 - val_loss: 0.7025 - val_accuracy: 0.5000\n",
            "Epoch 2/30\n",
            "2/2 [==============================] - 0s 38ms/step - loss: 0.6010 - accuracy: 0.6000 - val_loss: 0.5829 - val_accuracy: 0.5000\n",
            "Epoch 3/30\n",
            "2/2 [==============================] - 0s 40ms/step - loss: 0.5371 - accuracy: 0.6833 - val_loss: 0.5226 - val_accuracy: 0.7500\n",
            "Epoch 4/30\n",
            "2/2 [==============================] - 0s 39ms/step - loss: 0.4950 - accuracy: 0.7500 - val_loss: 0.5078 - val_accuracy: 0.5625\n",
            "Epoch 5/30\n",
            "2/2 [==============================] - 0s 39ms/step - loss: 0.4457 - accuracy: 0.7500 - val_loss: 0.3718 - val_accuracy: 0.8750\n",
            "Epoch 6/30\n",
            "2/2 [==============================] - 0s 39ms/step - loss: 0.3377 - accuracy: 0.9333 - val_loss: 0.2488 - val_accuracy: 1.0000\n",
            "Epoch 7/30\n",
            "2/2 [==============================] - 0s 42ms/step - loss: 0.3139 - accuracy: 0.9167 - val_loss: 0.1483 - val_accuracy: 1.0000\n",
            "Epoch 8/30\n",
            "2/2 [==============================] - 0s 42ms/step - loss: 0.2444 - accuracy: 0.9167 - val_loss: 0.0888 - val_accuracy: 1.0000\n",
            "Epoch 9/30\n",
            "2/2 [==============================] - 0s 43ms/step - loss: 0.2510 - accuracy: 0.9500 - val_loss: 0.0565 - val_accuracy: 1.0000\n",
            "Epoch 10/30\n",
            "2/2 [==============================] - 0s 39ms/step - loss: 0.2983 - accuracy: 0.8667 - val_loss: 0.0508 - val_accuracy: 1.0000\n",
            "Epoch 11/30\n",
            "2/2 [==============================] - 0s 38ms/step - loss: 0.2519 - accuracy: 0.9167 - val_loss: 0.1048 - val_accuracy: 0.9375\n",
            "Epoch 12/30\n",
            "2/2 [==============================] - 0s 39ms/step - loss: 0.1728 - accuracy: 0.9333 - val_loss: 0.0601 - val_accuracy: 1.0000\n",
            "Epoch 13/30\n",
            "2/2 [==============================] - 0s 38ms/step - loss: 0.2439 - accuracy: 0.8833 - val_loss: 0.0739 - val_accuracy: 1.0000\n",
            "Epoch 14/30\n",
            "2/2 [==============================] - 0s 39ms/step - loss: 0.1817 - accuracy: 0.9500 - val_loss: 0.0820 - val_accuracy: 1.0000\n",
            "Epoch 15/30\n",
            "2/2 [==============================] - 0s 37ms/step - loss: 0.1878 - accuracy: 0.9167 - val_loss: 0.0916 - val_accuracy: 1.0000\n",
            "Epoch 16/30\n",
            "2/2 [==============================] - 0s 39ms/step - loss: 0.1613 - accuracy: 0.9500 - val_loss: 0.0585 - val_accuracy: 1.0000\n",
            "Epoch 17/30\n",
            "2/2 [==============================] - 0s 40ms/step - loss: 0.1450 - accuracy: 0.9333 - val_loss: 0.0532 - val_accuracy: 1.0000\n",
            "Epoch 18/30\n",
            "2/2 [==============================] - 0s 40ms/step - loss: 0.1445 - accuracy: 0.9500 - val_loss: 0.0506 - val_accuracy: 1.0000\n",
            "Epoch 19/30\n",
            "2/2 [==============================] - 0s 37ms/step - loss: 0.1416 - accuracy: 0.9333 - val_loss: 0.0720 - val_accuracy: 0.9375\n",
            "Epoch 20/30\n",
            "2/2 [==============================] - 0s 37ms/step - loss: 0.1495 - accuracy: 0.9333 - val_loss: 0.0379 - val_accuracy: 1.0000\n",
            "Epoch 21/30\n",
            "2/2 [==============================] - 0s 37ms/step - loss: 0.2051 - accuracy: 0.9167 - val_loss: 0.0364 - val_accuracy: 1.0000\n",
            "Epoch 22/30\n",
            "2/2 [==============================] - 0s 38ms/step - loss: 0.1876 - accuracy: 0.9333 - val_loss: 0.0815 - val_accuracy: 0.9375\n",
            "Epoch 23/30\n",
            "2/2 [==============================] - 0s 37ms/step - loss: 0.1347 - accuracy: 0.9167 - val_loss: 0.0393 - val_accuracy: 1.0000\n",
            "Epoch 24/30\n",
            "2/2 [==============================] - 0s 39ms/step - loss: 0.1216 - accuracy: 0.9500 - val_loss: 0.0403 - val_accuracy: 1.0000\n",
            "Epoch 25/30\n",
            "2/2 [==============================] - 0s 42ms/step - loss: 0.1233 - accuracy: 0.9667 - val_loss: 0.0612 - val_accuracy: 1.0000\n",
            "Epoch 26/30\n",
            "2/2 [==============================] - 0s 37ms/step - loss: 0.1071 - accuracy: 0.9333 - val_loss: 0.0593 - val_accuracy: 1.0000\n",
            "Epoch 27/30\n",
            "2/2 [==============================] - 0s 38ms/step - loss: 0.1142 - accuracy: 0.9333 - val_loss: 0.0513 - val_accuracy: 1.0000\n",
            "Epoch 28/30\n",
            "2/2 [==============================] - 0s 40ms/step - loss: 0.0800 - accuracy: 0.9833 - val_loss: 0.0445 - val_accuracy: 1.0000\n",
            "Epoch 29/30\n",
            "2/2 [==============================] - 0s 39ms/step - loss: 0.0798 - accuracy: 0.9667 - val_loss: 0.0474 - val_accuracy: 1.0000\n",
            "Epoch 30/30\n",
            "2/2 [==============================] - 0s 38ms/step - loss: 0.0904 - accuracy: 0.9667 - val_loss: 0.0673 - val_accuracy: 0.9375\n"
          ]
        }
      ]
    },
    {
      "cell_type": "code",
      "source": [],
      "metadata": {
        "id": "XvkzcD_uHKRD"
      },
      "execution_count": 13,
      "outputs": []
    },
    {
      "cell_type": "code",
      "source": [],
      "metadata": {
        "id": "OeVEMArvJoaV"
      },
      "execution_count": 94,
      "outputs": []
    },
    {
      "cell_type": "code",
      "source": [
        "train_loss = history.history['loss']\n",
        "val_loss = history.history['val_loss']\n",
        "train_acc = history.history['accuracy']\n",
        "val_acc = history.history['val_accuracy']"
      ],
      "metadata": {
        "id": "VRZ08loNJoV1"
      },
      "execution_count": 78,
      "outputs": []
    },
    {
      "cell_type": "code",
      "source": [
        "import matplotlib.pyplot as plt\n",
        "\n",
        "plt.plot(val_loss)\n",
        "plt.plot(train_loss)\n",
        "plt.title(\"Val Loss & Train Loss\",size=18)\n",
        "plt.xlabel(\"Number of iterations\")\n",
        "plt.ylabel(\"Loss\")\n",
        "plt.legend([\"val\",\"train\"])\n",
        "plt.show()"
      ],
      "metadata": {
        "id": "z_ZkNc747xEF",
        "colab": {
          "base_uri": "https://localhost:8080/",
          "height": 477
        },
        "outputId": "c264ac7f-07c8-455b-dac5-bb3c7de373ed"
      },
      "execution_count": 79,
      "outputs": [
        {
          "output_type": "display_data",
          "data": {
            "text/plain": [
              "<Figure size 640x480 with 1 Axes>"
            ],
            "image/png": "[encoded data removed]"
          },
          "metadata": {}
        }
      ]
    },
    {
      "cell_type": "code",
      "source": [
        "test_loss, test_acc = model.evaluate(X_test, y_test)\n",
        "print('Test Loss: {}'.format(test_loss))\n",
        "print('Test Accuracy: {}'.format(test_acc))"
      ],
      "metadata": {
        "id": "OtiXQh1UJdkv",
        "colab": {
          "base_uri": "https://localhost:8080/"
        },
        "outputId": "8594bb00-4977-4112-d709-fe1f20202e37"
      },
      "execution_count": 80,
      "outputs": [
        {
          "output_type": "stream",
          "name": "stdout",
          "text": [
            "1/1 [==============================] - 0s 26ms/step - loss: 0.0673 - accuracy: 0.9375\n",
            "Test Loss: 0.06729958206415176\n",
            "Test Accuracy: 0.9375\n"
          ]
        }
      ]
    },
    {
      "cell_type": "code",
      "source": [],
      "metadata": {
        "id": "n6HNk7JXJdgj"
      },
      "execution_count": 88,
      "outputs": []
    },
    {
      "cell_type": "code",
      "source": [
        "model.predict(X_test)"
      ],
      "metadata": {
        "id": "lPJS7MxrhbLz",
        "colab": {
          "base_uri": "https://localhost:8080/"
        },
        "outputId": "06f844eb-dca6-4e78-d934-4bac71205cf6"
      },
      "execution_count": 91,
      "outputs": [
        {
          "output_type": "stream",
          "name": "stdout",
          "text": [
            "1/1 [==============================] - 0s 20ms/step\n"
          ]
        },
        {
          "output_type": "execute_result",
          "data": {
            "text/plain": [
              "array([[9.9905616e-01, 9.4387424e-04],\n",
              "       [9.9813807e-01, 1.8619569e-03],\n",
              "       [9.9482405e-01, 5.1759128e-03],\n",
              "       [9.9632436e-01, 3.6755740e-03],\n",
              "       [7.1477480e-03, 9.9285227e-01],\n",
              "       [6.5838993e-03, 9.9341607e-01],\n",
              "       [3.1590980e-02, 9.6840906e-01],\n",
              "       [1.5472188e-02, 9.8452777e-01],\n",
              "       [6.2802145e-03, 9.9371982e-01],\n",
              "       [9.6574569e-01, 3.4254376e-02],\n",
              "       [6.0874313e-01, 3.9125684e-01],\n",
              "       [1.5430817e-02, 9.8456913e-01],\n",
              "       [9.9926454e-01, 7.3540426e-04],\n",
              "       [9.9756634e-01, 2.4336420e-03],\n",
              "       [4.9455659e-03, 9.9505436e-01],\n",
              "       [9.9958664e-01, 4.1335923e-04]], dtype=float32)"
            ]
          },
          "metadata": {},
          "execution_count": 91
        }
      ]
    },
    {
      "cell_type": "code",
      "source": [],
      "metadata": {
        "id": "8bWp5mdShbHi"
      },
      "execution_count": null,
      "outputs": []
    },
    {
      "cell_type": "code",
      "source": [
        "predictions = model.predict(X_test)\n",
        "predicted_labels = np.argmax(predictions, axis=1)"
      ],
      "metadata": {
        "id": "L_NsJqV1hbDq",
        "colab": {
          "base_uri": "https://localhost:8080/"
        },
        "outputId": "165e623b-1978-44a7-8567-f308fc82b524"
      },
      "execution_count": 92,
      "outputs": [
        {
          "output_type": "stream",
          "name": "stdout",
          "text": [
            "1/1 [==============================] - 0s 29ms/step\n"
          ]
        }
      ]
    },
    {
      "cell_type": "code",
      "source": [
        "predicted_labels"
      ],
      "metadata": {
        "id": "yEI-DqoBha-t",
        "colab": {
          "base_uri": "https://localhost:8080/"
        },
        "outputId": "020d9ad5-c6d8-4018-9a90-a333a587479d"
      },
      "execution_count": 93,
      "outputs": [
        {
          "output_type": "execute_result",
          "data": {
            "text/plain": [
              "array([0, 0, 0, 0, 1, 1, 1, 1, 1, 0, 0, 1, 0, 0, 1, 0])"
            ]
          },
          "metadata": {},
          "execution_count": 93
        }
      ]
    },
    {
      "cell_type": "code",
      "source": [
        "y_test"
      ],
      "metadata": {
        "id": "2ezmXONuha6U",
        "colab": {
          "base_uri": "https://localhost:8080/"
        },
        "outputId": "129aea02-19d2-42b9-c97c-fcaa314e94ae"
      },
      "execution_count": 94,
      "outputs": [
        {
          "output_type": "execute_result",
          "data": {
            "text/plain": [
              "array([0, 0, 0, 0, 1, 1, 1, 1, 1, 0, 1, 1, 0, 0, 1, 0])"
            ]
          },
          "metadata": {},
          "execution_count": 94
        }
      ]
    },
    {
      "cell_type": "code",
      "source": [],
      "metadata": {
        "id": "rce3LutuHhSe"
      },
      "execution_count": null,
      "outputs": []
    },
    {
      "cell_type": "code",
      "source": [],
      "metadata": {
        "id": "ZOUnDcNEHhLW"
      },
      "execution_count": 99,
      "outputs": []
    },
    {
      "cell_type": "code",
      "source": [],
      "metadata": {
        "id": "yim8JlEHHhGf"
      },
      "execution_count": null,
      "outputs": []
    },
    {
      "cell_type": "code",
      "source": [],
      "metadata": {
        "id": "3v1W7oAxHhCa"
      },
      "execution_count": null,
      "outputs": []
    },
    {
      "cell_type": "code",
      "execution_count": null,
      "metadata": {
        "id": "4CVGGpG1PvB5"
      },
      "outputs": [],
      "source": []
    }
  ]
}